{
 "cells": [
  {
   "cell_type": "markdown",
   "metadata": {},
   "source": [
    "Python vs CircuitPython\n",
    "\n",
    "CircuitPython is based on Python, it has a built-in interpreter which means there is no need to compile. It is used for microcontrollers and embedded systems. In general, it is used for simplified programming and supports modules and packages which means it's easy to reuse your code for other projects. CircuitPython is usually with Adafruit's boards.\n",
    "\n",
    "Python is more general and has a wider range of applications than CircuitPython. Python can also be used with hardware but is typically used on traditional computing platforms. It can be run on systems with fewer memory limitations."
   ]
  },
  {
   "cell_type": "markdown",
   "metadata": {},
   "source": [
    "GitHub\n",
    "\n",
    "GitHub is a website, an extension to Git. It allows you to host remote repositories and work collaboratively with other people. The remote repository stores versions of your code on a server and are accessible to all team members."
   ]
  },
  {
   "cell_type": "markdown",
   "metadata": {},
   "source": []
  }
 ],
 "metadata": {
  "language_info": {
   "name": "python"
  },
  "orig_nbformat": 4
 },
 "nbformat": 4,
 "nbformat_minor": 2
}
